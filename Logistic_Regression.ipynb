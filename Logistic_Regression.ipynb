{
  "nbformat": 4,
  "nbformat_minor": 0,
  "metadata": {
    "colab": {
      "name": "Logistic Regression.ipynb",
      "provenance": [],
      "collapsed_sections": [],
      "authorship_tag": "ABX9TyODeuM8dHVANkhJ2YaOaDdB",
      "include_colab_link": true
    },
    "kernelspec": {
      "name": "python3",
      "display_name": "Python 3"
    },
    "language_info": {
      "name": "python"
    }
  },
  "cells": [
    {
      "cell_type": "markdown",
      "metadata": {
        "id": "view-in-github",
        "colab_type": "text"
      },
      "source": [
        "<a href=\"https://colab.research.google.com/github/Anjali-Saravanan/Logistic-Regression/blob/main/Logistic_Regression.ipynb\" target=\"_parent\"><img src=\"https://colab.research.google.com/assets/colab-badge.svg\" alt=\"Open In Colab\"/></a>"
      ]
    },
    {
      "cell_type": "code",
      "source": [
        "#import libraries\n",
        "import pandas as pd\n",
        "import matplotlib.pyplot as plt\n",
        "import seaborn as sns\n",
        "from seaborn import load_dataset # this method will help us to #download the Titanic dataset\n",
        "%matplotlib inline \n"
      ],
      "metadata": {
        "id": "II32etgTHoVa"
      },
      "execution_count": 48,
      "outputs": []
    },
    {
      "cell_type": "code",
      "source": [
        "#load the dataset\n",
        "data = load_dataset(\"titanic\")\n",
        "data"
      ],
      "metadata": {
        "id": "wdfJPAzqlpTB"
      },
      "execution_count": null,
      "outputs": []
    },
    {
      "cell_type": "code",
      "source": [
        "#get the information about the dataset\n",
        "data.info()"
      ],
      "metadata": {
        "id": "XLeu0Y4yH2j7"
      },
      "execution_count": null,
      "outputs": []
    },
    {
      "cell_type": "code",
      "source": [
        "#we are going to drop the features present in the columns list\n",
        "columns = ['alive', 'alone', 'embark_town', 'who', 'adult_male', 'deck']\n",
        "data_2 = data.drop(columns, axis=1)"
      ],
      "metadata": {
        "id": "_d0P0bNkH5Lq"
      },
      "execution_count": 51,
      "outputs": []
    },
    {
      "cell_type": "code",
      "source": [
        "#information about our new dataset after deleting\n",
        "data_2.describe(include='all').T"
      ],
      "metadata": {
        "id": "UMi35DH8H7xc"
      },
      "execution_count": null,
      "outputs": []
    },
    {
      "cell_type": "code",
      "source": [
        "#taking the minimum and maximum values in the age attribute\n",
        "print(f\"Max value of age column : {data_2['age'].max()}\")\n",
        "print(f\"Min value of age column : {data_2['age'].min()}\")"
      ],
      "metadata": {
        "id": "DJYovPt2H-F6"
      },
      "execution_count": null,
      "outputs": []
    },
    {
      "cell_type": "code",
      "source": [
        "#We can categorize age column with values between 0 and 80\n",
        "bins = [0, 5, 17, 25, 50, 80]\n",
        "labels = ['Infant', 'Kid', 'Young', 'Adult', 'Old']\n",
        "data_2['age'] = pd.cut(data_2['age'], bins = bins, labels=labels)"
      ],
      "metadata": {
        "id": "TR1zDVUMIB6T"
      },
      "execution_count": 54,
      "outputs": []
    },
    {
      "cell_type": "code",
      "source": [
        "#Pandas ‘cut’ method will let us make our own categorization.\n",
        "pd.DataFrame(data_2['age'].value_counts())"
      ],
      "metadata": {
        "id": "vLWr9IIIIESK"
      },
      "execution_count": null,
      "outputs": []
    },
    {
      "cell_type": "code",
      "source": [
        "#taking the age column as it has null values\n",
        "data_2['age'].mode()[0]"
      ],
      "metadata": {
        "id": "okvrDuyYIGPx"
      },
      "execution_count": null,
      "outputs": []
    },
    {
      "cell_type": "code",
      "source": [
        "#We can fill null values with mode of this column\n",
        "data_4 = data_2.fillna({'age' : data_2['age'].mode()[0]})\n",
        "data_4"
      ],
      "metadata": {
        "id": "RJiJD5P3IM-t"
      },
      "execution_count": null,
      "outputs": []
    },
    {
      "cell_type": "code",
      "source": [
        "#taking embarked column for filling null values\n",
        "data_2['embarked'].unique()"
      ],
      "metadata": {
        "id": "st2BocSFkYFL"
      },
      "execution_count": null,
      "outputs": []
    },
    {
      "cell_type": "code",
      "source": [
        "print(f\"How many 'S' on embarked column : {data_2[data_2['embarked'] == 'S'].shape[0]}\")\n",
        "print(f\"How many 'C' on embarked column : {data_2[data_2['embarked'] == 'C'].shape[0]}\")\n",
        "print(f\"How many 'Q' on embarked column : {data_2[data_2['embarked'] == 'Q'].shape[0]}\")"
      ],
      "metadata": {
        "id": "N9mxAwsqkbVJ"
      },
      "execution_count": null,
      "outputs": []
    },
    {
      "cell_type": "code",
      "source": [
        "data_3 = data_2.fillna({'embarked' : 'S'})\n",
        "data_4[['pclass', 'survived']].groupby(['pclass']).sum().sort_values(by='survived')"
      ],
      "metadata": {
        "id": "0nnhsmBgkeZB"
      },
      "execution_count": null,
      "outputs": []
    },
    {
      "cell_type": "code",
      "source": [
        "data_4[['sex', 'survived']].groupby(['sex']).sum().sort_values(by='survived')"
      ],
      "metadata": {
        "id": "nBNVj6kCkhtj"
      },
      "execution_count": null,
      "outputs": []
    },
    {
      "cell_type": "code",
      "source": [
        "bins = [-1, 7.9104, 14.4542, 31, 512.330]\n",
        "labels = ['low', 'medium-low', 'medium', 'high']\n",
        "data_4['fare'] = pd.cut(data_4[\"fare\"], bins = bins, labels = labels)"
      ],
      "metadata": {
        "id": "B8I0ltJ5kkbo"
      },
      "execution_count": 38,
      "outputs": []
    },
    {
      "cell_type": "code",
      "source": [
        "#final version of our dataset\n",
        "data_5 = data_4.drop('class', axis=1)\n",
        "sns.distplot(data_5['survived'])"
      ],
      "metadata": {
        "id": "KXlo7Admk3cB"
      },
      "execution_count": null,
      "outputs": []
    },
    {
      "cell_type": "code",
      "source": [
        "dummies = ['fare', 'age', 'embarked', 'sex']\n",
        "dummy_data = pd.get_dummies(data_5[dummies])"
      ],
      "metadata": {
        "id": "BrfTQ0lxk7Er"
      },
      "execution_count": 64,
      "outputs": []
    },
    {
      "cell_type": "code",
      "source": [
        "dummy_data.shape"
      ],
      "metadata": {
        "id": "C5euwPDylFBd"
      },
      "execution_count": null,
      "outputs": []
    },
    {
      "cell_type": "code",
      "source": [
        "#concat two dataframes and remove the old columns\n",
        "data_6 = pd.concat([data_5, dummy_data], axis = 1)\n",
        "data_6.drop(dummies, axis=1, inplace=True)"
      ],
      "metadata": {
        "id": "IK5Ng7EvlHf8"
      },
      "execution_count": 63,
      "outputs": []
    },
    {
      "cell_type": "code",
      "source": [
        "#begin to build the model\n",
        "from sklearn.model_selection import train_test_split\n",
        "from sklearn.linear_model import LogisticRegression\n",
        "from sklearn.metrics import accuracy_score, confusion_matrix"
      ],
      "metadata": {
        "id": "vhO3Slh0lJzS"
      },
      "execution_count": 65,
      "outputs": []
    },
    {
      "cell_type": "code",
      "source": [
        "# X contains independent values, y contains dependent value\n",
        "X = data_6.drop('survived', axis = 1)\n",
        "y = data_6['survived']\n",
        "X_train, X_test, y_train, y_test = train_test_split(X, y, test_size = 0.33, random_state = 0)\n"
      ],
      "metadata": {
        "id": "xAU6cyBylL0z"
      },
      "execution_count": 66,
      "outputs": []
    },
    {
      "cell_type": "code",
      "source": [
        "#getting predicted values\n",
        "log_reg = LogisticRegression()\n",
        "log_reg.fit(X_train, y_train)\n",
        "y_pred = log_reg.predict(X_test)\n",
        "y_pred"
      ],
      "metadata": {
        "id": "iXnLMObmlPvh"
      },
      "execution_count": null,
      "outputs": []
    },
    {
      "cell_type": "code",
      "source": [
        "#accuracy of our model\n",
        "accuracy_score(y_pred, y_test)"
      ],
      "metadata": {
        "id": "0-DaRef6lP05"
      },
      "execution_count": null,
      "outputs": []
    }
  ]
}